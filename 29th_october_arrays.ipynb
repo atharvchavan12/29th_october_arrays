{
 "cells": [
  {
   "cell_type": "code",
   "execution_count": 1,
   "id": "6902dea8-5a37-4ec1-846d-6b2da6d05c60",
   "metadata": {},
   "outputs": [
    {
     "name": "stdin",
     "output_type": "stream",
     "text": [
      "enter total number of elements 6\n",
      " 1\n",
      " 2\n",
      " 4\n",
      " 2\n",
      " 5\n",
      " 9\n"
     ]
    },
    {
     "name": "stdout",
     "output_type": "stream",
     "text": [
      "True\n"
     ]
    }
   ],
   "source": [
    "#1. Given an array, check if it contains any duplicates or not. \n",
    "#arr = [1, 2, 4, 2, 5, 9] \n",
    "#Output = True\n",
    "def duplicate(listOfElems):   #define function\n",
    "    if len(listOfElems) == len(set(listOfElems)):   #set does not contain duplicate elements so i used set data type here\n",
    "        return False  #if set contain does not repeat eleemtns\n",
    "    else:\n",
    "        return True  #repeat elements\n",
    "   \n",
    "   \n",
    "n=int(input(\"enter total number of elements\"))  #takinjg total no. of array from user\n",
    "list_item=[int(input()) for x in range(n)]  #taking array elemts from user\n",
    "print(duplicate(list_item))  #calling\n"
   ]
  },
  {
   "cell_type": "code",
   "execution_count": 2,
   "id": "baa262e6-3e56-4a69-b2a9-69f58c13536e",
   "metadata": {},
   "outputs": [
    {
     "name": "stdin",
     "output_type": "stream",
     "text": [
      "enter total number of elements 7\n",
      " 1\n",
      " 2\n",
      " 3\n",
      " 4\n",
      " 5\n",
      " 6\n",
      " 7\n"
     ]
    },
    {
     "name": "stdout",
     "output_type": "stream",
     "text": [
      "5 6 7 1 2 3 4 \n",
      "\n"
     ]
    }
   ],
   "source": [
    "#2. Given an array and an integer k, rotate the array to the right by k steps. \n",
    "#arr = [1, 2, 3, 4, 5, 6, 7] k = 3 \n",
    "#Output = [5, 6, 7, 1, 2, 3, 4\n",
    "def RightRotate(a, n, k):  #a=list_items, n=length k=how many times it rotate\n",
    "\tk = k % n;\n",
    "\tfor i in range(0, n):\n",
    "\t\tif(i < k):\n",
    "\t\t\tprint(a[n + i - k], end = \" \")\n",
    "\n",
    "\t\telse:\n",
    "\t\t\tprint(a[i - k], end = \" \")\n",
    "\n",
    "\tprint(\"\\n\");\n",
    "\n",
    "# Driver code\n",
    "n=int(input(\"enter total number of elements\"))  #takinjg total no. of array from user\n",
    "list_item=[int(input()) for x in range(n)]#taking array elemts from user\n",
    "N = len(list_item) #calling\n",
    "K = 3\n",
    "RightRotate(list_item, N, K)"
   ]
  },
  {
   "cell_type": "code",
   "execution_count": 3,
   "id": "c83ba7cf-f500-4cb8-8408-276355e8bb90",
   "metadata": {},
   "outputs": [
    {
     "name": "stdin",
     "output_type": "stream",
     "text": [
      "enter total number of elements 6\n",
      " 2\n",
      " 4\n",
      " 5\n",
      " 7\n",
      " 9\n",
      " 12\n"
     ]
    },
    {
     "name": "stdout",
     "output_type": "stream",
     "text": [
      "[12, 9, 7, 5, 4, 2]\n"
     ]
    }
   ],
   "source": [
    "#3. Reverse the given array in-place, means without using any extra data structure. \n",
    "#arr = [2, 4, 5, 7, 9, 12] \n",
    "#Output = [12, 9, 7, 5, 4, 2\n",
    "def reverse(list_items):#define function\n",
    "   s=list_items[::-1]\n",
    "   print(s)\n",
    "\n",
    "n=int(input(\"enter total number of elements\"))  #takinjg total no. of array from user\n",
    "list_item=[int(input()) for x in range(n)] #taking array elemts from user\n",
    "reverse(list_item)#calling"
   ]
  },
  {
   "cell_type": "code",
   "execution_count": 4,
   "id": "2b72c99f-9a18-456d-86de-b2f0273c432b",
   "metadata": {},
   "outputs": [
    {
     "name": "stdin",
     "output_type": "stream",
     "text": [
      "enter total number of elements 5\n",
      " 10\n",
      " 5\n",
      " 20\n",
      " 8\n",
      " 15\n"
     ]
    },
    {
     "name": "stdout",
     "output_type": "stream",
     "text": [
      "20\n"
     ]
    }
   ],
   "source": [
    "#4. Given an array of integers, find the maximum element in an array\n",
    " #arr = [10, 5, 20, 8, 15]\n",
    " #Output = 2\n",
    "def maximum_(list_items):#define function\n",
    "  print(max(list_items))\n",
    "\n",
    "n=int(input(\"enter total number of elements\"))  #takinjg total no. of array from user\n",
    "list_item=[int(input()) for x in range(n)] #taking array elemts from user\n",
    "maximum_(list_item)#calling"
   ]
  },
  {
   "cell_type": "code",
   "execution_count": 5,
   "id": "25ef4de9-621b-47dc-9767-839c08f90937",
   "metadata": {},
   "outputs": [
    {
     "name": "stdin",
     "output_type": "stream",
     "text": [
      "enter total number of elements 11\n",
      " 1\n",
      " 1\n",
      " 2\n",
      " 2\n",
      " 2\n",
      " 3\n",
      " 3\n",
      " 4\n",
      " 4\n",
      " 4\n",
      " 5\n"
     ]
    },
    {
     "name": "stdout",
     "output_type": "stream",
     "text": [
      "[1, 2, 3, 4, 5]\n"
     ]
    }
   ],
   "source": [
    "#5. Given a sorted array, remove the duplicate element without using any extra data structure. \n",
    "#arr = [1, 1, 2, 2, 2, 3, 3, 4, 4, 4, 5, 5] \n",
    "#Output = [1, 2, 3, 4, 5]\n",
    "def remove_duplicate(list_items):#define function\n",
    "   s=set(list_items)\n",
    "   print(list(s))\n",
    "n=int(input(\"enter total number of elements\"))  #takinjg total no. of array from user\n",
    "list_item=[int(input()) for x in range(n)] #taking array elemts from user\n",
    "remove_duplicate(list_item)#calling"
   ]
  },
  {
   "cell_type": "code",
   "execution_count": null,
   "id": "db6dcbe9-676d-455f-a607-90be59e2722a",
   "metadata": {},
   "outputs": [],
   "source": []
  }
 ],
 "metadata": {
  "kernelspec": {
   "display_name": "Python 3 (ipykernel)",
   "language": "python",
   "name": "python3"
  },
  "language_info": {
   "codemirror_mode": {
    "name": "ipython",
    "version": 3
   },
   "file_extension": ".py",
   "mimetype": "text/x-python",
   "name": "python",
   "nbconvert_exporter": "python",
   "pygments_lexer": "ipython3",
   "version": "3.10.8"
  }
 },
 "nbformat": 4,
 "nbformat_minor": 5
}
